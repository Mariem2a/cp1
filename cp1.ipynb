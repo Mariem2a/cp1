{
  "nbformat": 4,
  "nbformat_minor": 0,
  "metadata": {
    "colab": {
      "name": "cp1.ipynb",
      "provenance": []
    },
    "kernelspec": {
      "name": "python3",
      "display_name": "Python 3"
    },
    "language_info": {
      "name": "python"
    }
  },
  "cells": [
    {
      "cell_type": "code",
      "metadata": {
        "id": "-a6nGlg9GjHW"
      },
      "source": [
        " print(\"Welcome to python world! Let's start coding\")"
      ],
      "execution_count": null,
      "outputs": []
    }
  ]
}